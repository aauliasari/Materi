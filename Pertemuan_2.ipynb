{
  "nbformat": 4,
  "nbformat_minor": 0,
  "metadata": {
    "colab": {
      "provenance": []
    },
    "kernelspec": {
      "name": "python3",
      "display_name": "Python 3"
    },
    "language_info": {
      "name": "python"
    }
  },
  "cells": [
    {
      "cell_type": "code",
      "execution_count": 1,
      "metadata": {
        "colab": {
          "base_uri": "https://localhost:8080/"
        },
        "id": "0UBLiNmguugX",
        "outputId": "e323dcd8-8984-418d-a562-6837f7f21225"
      },
      "outputs": [
        {
          "output_type": "stream",
          "name": "stdout",
          "text": [
            "Berapakah jumlah uang di dompet anda?30000\n",
            "Berpakah jumlah uang anda di bank?20000\n",
            "Total uang anda adalah Rp 3000020000\n"
          ]
        }
      ],
      "source": [
        "#type data : ada numerik, integer(bulat), float (desimal), string (nama, huruf), boolian(true/false)\n",
        "#yang salah\n",
        "uang_di_dompet = input(\"Berapakah jumlah uang di dompet anda?\")\n",
        "uang_di_bank = input(\"Berpakah jumlah uang anda di bank?\")\n",
        "print(\"Total uang anda adalah Rp \" + uang_di_dompet + uang_di_bank)\n",
        "#salah karena tidak ada type datanya"
      ]
    },
    {
      "cell_type": "code",
      "source": [
        "#yang benar\n",
        "uang_di_dompet = input(\"Berapakah jumlah uang di dompet anda?\")\n",
        "uang_di_bank = input(\"Berpakah jumlah uang anda di bank?\")\n",
        "total_uang = int(uang_di_dompet) + int(uang_di_bank)\n",
        "print(\"Total uang anda adalah Rp \" + str(total_uang))"
      ],
      "metadata": {
        "colab": {
          "base_uri": "https://localhost:8080/"
        },
        "id": "kI_Aun5dvq3W",
        "outputId": "44565f4f-aaea-480a-a57a-f1e22507005e"
      },
      "execution_count": 4,
      "outputs": [
        {
          "output_type": "stream",
          "name": "stdout",
          "text": [
            "Berapakah jumlah uang di dompet anda?20000\n",
            "Berpakah jumlah uang anda di bank?100000\n",
            "Total uang anda adalah Rp 120000\n"
          ]
        }
      ]
    },
    {
      "cell_type": "code",
      "source": [
        "print (\"i love you\")"
      ],
      "metadata": {
        "colab": {
          "base_uri": "https://localhost:8080/"
        },
        "id": "-SEjZ_c0wWyb",
        "outputId": "fd159be9-63e2-4260-e02a-d28fc43d0870"
      },
      "execution_count": 5,
      "outputs": [
        {
          "output_type": "stream",
          "name": "stdout",
          "text": [
            "i love you\n"
          ]
        }
      ]
    },
    {
      "cell_type": "code",
      "source": [
        "print (\"i love you \\n but i cant have you\")"
      ],
      "metadata": {
        "colab": {
          "base_uri": "https://localhost:8080/"
        },
        "id": "NrBK7Kxwy9vX",
        "outputId": "7fe65ed1-af70-4dcd-b047-f1608703efdf"
      },
      "execution_count": 6,
      "outputs": [
        {
          "output_type": "stream",
          "name": "stdout",
          "text": [
            "i love you \n",
            " but i cant have you\n"
          ]
        }
      ]
    },
    {
      "cell_type": "code",
      "source": [
        "mahasiswa = 22\n",
        "jumlah_kelas = 35\n",
        "print(mahasiswa)\n",
        "print(jumlah_kelas)\n",
        "print(mahasiswa*jumlah_kelas)"
      ],
      "metadata": {
        "colab": {
          "base_uri": "https://localhost:8080/"
        },
        "id": "tkq_1Xeay_3v",
        "outputId": "b0fee6ac-c967-4b53-bcb8-258b341afd4a"
      },
      "execution_count": 7,
      "outputs": [
        {
          "output_type": "stream",
          "name": "stdout",
          "text": [
            "22\n",
            "35\n",
            "770\n"
          ]
        }
      ]
    },
    {
      "cell_type": "code",
      "source": [
        "nama = input(\"input nama anda:\")\n",
        "print(\"salam sayang\" + \" \" + nama)"
      ],
      "metadata": {
        "colab": {
          "base_uri": "https://localhost:8080/"
        },
        "id": "YH6qb_2EzCE6",
        "outputId": "8db1ed27-5a10-44d6-e80d-0cf5fe8f5748"
      },
      "execution_count": 8,
      "outputs": [
        {
          "output_type": "stream",
          "name": "stdout",
          "text": [
            "input nama anda:aulia\n",
            "salam sayang aulia\n"
          ]
        }
      ]
    },
    {
      "cell_type": "code",
      "source": [],
      "metadata": {
        "id": "MrgGfoVbzFTz"
      },
      "execution_count": null,
      "outputs": []
    }
  ]
}